{
 "cells": [
  {
   "cell_type": "code",
   "execution_count": 1,
   "metadata": {
    "scrolled": false
   },
   "outputs": [],
   "source": [
    "import os;import sys\n",
    "import pandas as pd;import numpy as np;from itertools import combinations, permutations, product\n",
    "from datetime import datetime;from datetime import date\n",
    "from collections import Counter;import matplotlib ; from matplotlib import pyplot as plt\n",
    "import networkx as nx; from matplotlib.ticker import (MultipleLocator, FormatStrFormatter,AutoMinorLocator)\n",
    "from scipy.io import loadmat\n",
    "from scipy.sparse import csr_matrix\n",
    "from scipy import stats\n",
    "from sknetwork.clustering import Louvain, BiLouvain, modularity, bimodularity\n",
    "import nbimporter ; import importlib as imp ; from scipy.optimize import minimize \n",
    "from scipy.optimize import LinearConstraint\n",
    "import seaborn as sns\n",
    "from sklearn import linear_model\n",
    "from sklearn.linear_model import LinearRegression\n",
    "from sklearn.metrics import mean_squared_error\n",
    "\n",
    "from sklearn.metrics import r2_score\n",
    "from sklearn.metrics import (confusion_matrix,  \n",
    "                           accuracy_score) \n",
    "from sklearn import metrics\n",
    "from sklearn.model_selection import train_test_split\n",
    "from sklearn.preprocessing import StandardScaler,MinMaxScaler\n",
    "\n",
    "from random import gauss, random, choices\n",
    "import pickle; import math\n",
    "import geopandas as gpd\n",
    "import re\n",
    "from sklearn.linear_model import LogisticRegression\n",
    "from sklearn.model_selection import train_test_split\n",
    "from statsmodels.stats.outliers_influence import variance_inflation_factor \n",
    "from statsmodels.tools.tools import add_constant\n",
    "from scipy.stats.distributions import chi2\n"
   ]
  },
  {
   "cell_type": "code",
   "execution_count": 2,
   "metadata": {},
   "outputs": [],
   "source": [
    "import statsmodels.api as sm "
   ]
  },
  {
   "cell_type": "code",
   "execution_count": 3,
   "metadata": {},
   "outputs": [],
   "source": [
    "path=os.getcwd()"
   ]
  },
  {
   "cell_type": "code",
   "execution_count": 4,
   "metadata": {},
   "outputs": [],
   "source": [
    "def flatten(L):\n",
    "    return [l for ll in L for l in ll]"
   ]
  },
  {
   "cell_type": "code",
   "execution_count": 5,
   "metadata": {},
   "outputs": [],
   "source": [
    "def partition(l, nbin):\n",
    "    dw = int(np.ceil(len(l)/nbin))\n",
    "    ll = []\n",
    "    i0 = 0\n",
    "    while i0+dw<len(l):\n",
    "        ll.append(l[i0:i0+dw])\n",
    "        i0+=dw\n",
    "    if i0 < len(l):\n",
    "        ll[-1] = ll[-1]+l[i0:]\n",
    "    return ll"
   ]
  },
  {
   "cell_type": "code",
   "execution_count": 40,
   "metadata": {},
   "outputs": [],
   "source": [
    "def getSig(p):\n",
    "    if p<0.005: return \"***\"\n",
    "    elif p<0.01: return \"**\"\n",
    "    elif p<0.05: return \"*\"\n",
    "    else: return \" \"\n",
    "    \n",
    "def getSig_short(p):\n",
    "    if p<0.005: return \"*\"\n",
    "    else: return \" \""
   ]
  },
  {
   "cell_type": "markdown",
   "metadata": {},
   "source": [
    "<h2 style='text-align: center;'> Import Model Data </h2>"
   ]
  },
  {
   "cell_type": "code",
   "execution_count": 8,
   "metadata": {},
   "outputs": [],
   "source": [
    "data = pd.read_csv('./../indicators/model_data_bonds_loans_d0_df.csv')"
   ]
  },
  {
   "cell_type": "code",
   "execution_count": 9,
   "metadata": {},
   "outputs": [],
   "source": [
    "all_vars_ = ['FX_short', \n",
    "            'FX_long', \n",
    "             #'GDP Growth', \n",
    "            # 'GDP per cap', \n",
    "             #'Interest rate',\n",
    "             'Ratings FC', \n",
    "             'Ratings LC',\n",
    "             'Pol_Risk',\n",
    "             'VIX', \n",
    "             'GDP Growth',\n",
    "             #'market_volume_bonds',\n",
    "             #'market_volume_loans', \n",
    "             'Amount', \n",
    "             #'LCY', \n",
    "             #'Domestic', \n",
    "             #'Bond', \n",
    "             'Tenor']"
   ]
  },
  {
   "cell_type": "code",
   "execution_count": 10,
   "metadata": {},
   "outputs": [],
   "source": [
    "countries = ['India',\n",
    "             'Mexico',\n",
    "             'Brazil',\n",
    "             'South Africa',\n",
    "             'Indonesia',\n",
    "             'Thailand',\n",
    "             #'Malaysia',\n",
    "             #'Turkey'\n",
    "            ]"
   ]
  },
  {
   "cell_type": "code",
   "execution_count": 11,
   "metadata": {},
   "outputs": [],
   "source": [
    "data = data[(data.Country.apply(lambda x: x in countries))\n",
    "           &(data.Corporate==1)]"
   ]
  },
  {
   "cell_type": "code",
   "execution_count": 12,
   "metadata": {},
   "outputs": [],
   "source": [
    "data['FCY']=data.LCY.apply(lambda x: 1 if x==0 else 0)"
   ]
  },
  {
   "cell_type": "code",
   "execution_count": 13,
   "metadata": {},
   "outputs": [
    {
     "data": {
      "text/plain": [
       "1112"
      ]
     },
     "execution_count": 13,
     "metadata": {},
     "output_type": "execute_result"
    }
   ],
   "source": [
    "len(data)"
   ]
  },
  {
   "cell_type": "markdown",
   "metadata": {},
   "source": [
    "<h2 style='text-align: left;'> Statistics </h2>"
   ]
  },
  {
   "cell_type": "code",
   "execution_count": 14,
   "metadata": {},
   "outputs": [],
   "source": [
    "df_stats = pd.DataFrame([data[all_vars_].mean().values,\n",
    "                         data[all_vars_].std().values,\n",
    "                        data[all_vars_].median().values,\n",
    "                        data[all_vars_].min().values,\n",
    "                        data[all_vars_].max().values],\n",
    "            index=['Mean','SD','Median','Min','Max'], \n",
    "            columns = all_vars_).transpose()"
   ]
  },
  {
   "cell_type": "code",
   "execution_count": 15,
   "metadata": {},
   "outputs": [
    {
     "data": {
      "text/html": [
       "<div>\n",
       "<style scoped>\n",
       "    .dataframe tbody tr th:only-of-type {\n",
       "        vertical-align: middle;\n",
       "    }\n",
       "\n",
       "    .dataframe tbody tr th {\n",
       "        vertical-align: top;\n",
       "    }\n",
       "\n",
       "    .dataframe thead th {\n",
       "        text-align: right;\n",
       "    }\n",
       "</style>\n",
       "<table border=\"1\" class=\"dataframe\">\n",
       "  <thead>\n",
       "    <tr style=\"text-align: right;\">\n",
       "      <th></th>\n",
       "      <th>Mean</th>\n",
       "      <th>SD</th>\n",
       "      <th>Median</th>\n",
       "      <th>Min</th>\n",
       "      <th>Max</th>\n",
       "    </tr>\n",
       "  </thead>\n",
       "  <tbody>\n",
       "    <tr>\n",
       "      <th>FX_short</th>\n",
       "      <td>0.021850</td>\n",
       "      <td>0.011626</td>\n",
       "      <td>0.017240</td>\n",
       "      <td>0.003895</td>\n",
       "      <td>0.071517</td>\n",
       "    </tr>\n",
       "    <tr>\n",
       "      <th>FX_long</th>\n",
       "      <td>0.025543</td>\n",
       "      <td>0.010066</td>\n",
       "      <td>0.025145</td>\n",
       "      <td>0.005751</td>\n",
       "      <td>0.042143</td>\n",
       "    </tr>\n",
       "    <tr>\n",
       "      <th>Ratings FC</th>\n",
       "      <td>11.217626</td>\n",
       "      <td>1.473845</td>\n",
       "      <td>11.000000</td>\n",
       "      <td>9.000000</td>\n",
       "      <td>14.000000</td>\n",
       "    </tr>\n",
       "    <tr>\n",
       "      <th>Ratings LC</th>\n",
       "      <td>11.189748</td>\n",
       "      <td>1.497361</td>\n",
       "      <td>11.000000</td>\n",
       "      <td>9.000000</td>\n",
       "      <td>15.000000</td>\n",
       "    </tr>\n",
       "    <tr>\n",
       "      <th>Pol_Risk</th>\n",
       "      <td>-0.635474</td>\n",
       "      <td>0.288905</td>\n",
       "      <td>-0.688361</td>\n",
       "      <td>-1.442788</td>\n",
       "      <td>0.163664</td>\n",
       "    </tr>\n",
       "    <tr>\n",
       "      <th>VIX</th>\n",
       "      <td>18.787968</td>\n",
       "      <td>6.463640</td>\n",
       "      <td>17.260000</td>\n",
       "      <td>9.890000</td>\n",
       "      <td>35.540000</td>\n",
       "    </tr>\n",
       "    <tr>\n",
       "      <th>GDP Growth</th>\n",
       "      <td>3.219245</td>\n",
       "      <td>3.791808</td>\n",
       "      <td>3.000000</td>\n",
       "      <td>-8.600000</td>\n",
       "      <td>9.700000</td>\n",
       "    </tr>\n",
       "    <tr>\n",
       "      <th>Amount</th>\n",
       "      <td>0.160635</td>\n",
       "      <td>0.247782</td>\n",
       "      <td>0.065000</td>\n",
       "      <td>0.000100</td>\n",
       "      <td>2.000000</td>\n",
       "    </tr>\n",
       "    <tr>\n",
       "      <th>Tenor</th>\n",
       "      <td>10.797287</td>\n",
       "      <td>6.292321</td>\n",
       "      <td>10.000000</td>\n",
       "      <td>1.000000</td>\n",
       "      <td>40.000000</td>\n",
       "    </tr>\n",
       "  </tbody>\n",
       "</table>\n",
       "</div>"
      ],
      "text/plain": [
       "                 Mean        SD     Median       Min        Max\n",
       "FX_short     0.021850  0.011626   0.017240  0.003895   0.071517\n",
       "FX_long      0.025543  0.010066   0.025145  0.005751   0.042143\n",
       "Ratings FC  11.217626  1.473845  11.000000  9.000000  14.000000\n",
       "Ratings LC  11.189748  1.497361  11.000000  9.000000  15.000000\n",
       "Pol_Risk    -0.635474  0.288905  -0.688361 -1.442788   0.163664\n",
       "VIX         18.787968  6.463640  17.260000  9.890000  35.540000\n",
       "GDP Growth   3.219245  3.791808   3.000000 -8.600000   9.700000\n",
       "Amount       0.160635  0.247782   0.065000  0.000100   2.000000\n",
       "Tenor       10.797287  6.292321  10.000000  1.000000  40.000000"
      ]
     },
     "execution_count": 15,
     "metadata": {},
     "output_type": "execute_result"
    }
   ],
   "source": [
    "df_stats"
   ]
  },
  {
   "cell_type": "code",
   "execution_count": 16,
   "metadata": {},
   "outputs": [],
   "source": [
    "df_stats.to_csv('./../results/df_stats.csv')"
   ]
  },
  {
   "cell_type": "code",
   "execution_count": 17,
   "metadata": {},
   "outputs": [],
   "source": [
    "### If predictor variables vary greatly across individuals but have little variation for each individual \n",
    "### then FE estimates will be imprecise and have large standard errors "
   ]
  },
  {
   "cell_type": "code",
   "execution_count": 29,
   "metadata": {},
   "outputs": [
    {
     "data": {
      "image/png": "[encoded data removed]",
      "text/plain": [
       "<Figure size 0.72x0.72 with 1 Axes>"
      ]
     },
     "metadata": {
      "needs_background": "light"
     },
     "output_type": "display_data"
    }
   ],
   "source": [
    "fig, ax = plt.subplots(1,1,figsize=(0.01,0.01));\n",
    "ax.axis('off');"
   ]
  },
  {
   "cell_type": "code",
   "execution_count": 30,
   "metadata": {},
   "outputs": [],
   "source": [
    "def plotResidualsPredicted(logit,X,y, ax = ax):\n",
    "    fig, ax = plt.subplots(1,1,figsize=(10,5))\n",
    "    pred_true_vals_sorted = sorted(list(zip(logit.predict(X),y)),\n",
    "                                   key=lambda x : x[0])\n",
    "    residuals = [r[1]-r[0] for r in pred_true_vals_sorted]\n",
    "    \n",
    "    \n",
    "    nbin = int(np.floor(np.sqrt(len(y)))) # suggested bin width is square-root of n_obs\n",
    "    \n",
    "    binned_x = partition([p[0] for p in pred_true_vals_sorted],nbin)\n",
    "    binned_y = partition(residuals,nbin)\n",
    "    \n",
    "    x_av = [np.mean(x) for x in binned_x]\n",
    "    y_av = [np.mean(y) for y in binned_y]\n",
    "    \n",
    "    conf_plus = [2*np.std(y)/np.sqrt(len(y)) for y in binned_y]\n",
    "    conf_minus = [-2*np.std(y)/np.sqrt(len(y)) for y in binned_y]\n",
    "    \n",
    "    ##### plotting #####\n",
    "    fs = 14\n",
    "    ax.plot(x_av,conf_plus, color='red', linestyle='--', alpha = 0.8)\n",
    "    ax.plot(x_av,conf_minus, color='red', linestyle='--',alpha = 0.8)\n",
    "    \n",
    "    for i,(x,y) in enumerate(list(zip(x_av,y_av))):\n",
    "        if (y<conf_plus[i]) & (y>conf_minus[i]):\n",
    "            ax.scatter(x, y, color='black')\n",
    "        else:\n",
    "            ax.scatter(x,y, color='red')\n",
    "    \n",
    "    ax.set_ylabel('Average residual', fontsize=fs)\n",
    "    ax.set_xlabel('Average predicted probability', fontsize=fs)\n",
    "    ax.tick_params(labelsize=fs)\n",
    "    \n",
    "    return binned_x, binned_y"
   ]
  },
  {
   "cell_type": "code",
   "execution_count": 31,
   "metadata": {},
   "outputs": [],
   "source": [
    "def plotResidualsCovariate(logit,X,y,i,s,nrow = 1, ncol = 1, ax = ax, cat = False):\n",
    "    \n",
    "    pred_true_vals_sorted = sorted(list(zip(logit.predict(X),\n",
    "                                            y,\n",
    "                                            [x[i] for x in X])),key=lambda x : x[2])\n",
    "    \n",
    "    residuals = [r[1]-r[0] for r in pred_true_vals_sorted]\n",
    "    \n",
    "    if cat == False:\n",
    "        nbin = int(np.floor(np.sqrt(len(y)))) # suggested bin width is square-root of n_obs\n",
    "        binned_x = partition([p[2] for p in pred_true_vals_sorted],nbin)\n",
    "        binned_y = partition(residuals,nbin)\n",
    "        x_av = [np.mean(x) for x in binned_x]\n",
    "        y_av = [np.mean(y) for y in binned_y]\n",
    "        conf_plus = [2*np.std(y)/np.sqrt(len(y)) for y in binned_y]\n",
    "        conf_minus = [-2*np.std(y)/np.sqrt(len(y)) for y in binned_y]\n",
    "    \n",
    "        \n",
    "    else:\n",
    "        cats = list(set([x[i] for x in X]))\n",
    "        binned_x = [[x for pred_y,y,x in pred_true_vals_sorted if x == cat] \n",
    "                     for cat in cats]\n",
    "        binned_y = [[pred_y-y for pred_y,y,x in pred_true_vals_sorted if x == cat] \n",
    "                     for cat in cats]\n",
    "        x_av = [np.mean(b) for b in binned_x]\n",
    "        y_av = [np.mean(b) for b in binned_y]\n",
    "        conf_plus = [2*np.std(y)/np.sqrt(len(y)) for y in binned_y]\n",
    "        conf_minus = [-2*np.std(y)/np.sqrt(len(y)) for y in binned_y]\n",
    "    \n",
    "    ##### plotting #####\n",
    "    fs = 14\n",
    "    ax.plot(x_av,conf_plus, color='red', linestyle='--', alpha = 0.8)\n",
    "    ax.plot(x_av,conf_minus, color='red', linestyle='--',alpha = 0.8)\n",
    "    \n",
    "    for i,(x,y) in enumerate(list(zip(x_av,y_av))):\n",
    "        if (y<conf_plus[i]) & (y>conf_minus[i]):\n",
    "            ax.scatter(x, y, color='black')\n",
    "        else:\n",
    "            ax.scatter(x,y, color='red')\n",
    "            \n",
    "    ax.set_ylabel('Average residual', fontsize=fs)\n",
    "    ax.set_xlabel('Average covariate', fontsize=fs)\n",
    "    ax.set_title(s, fontsize=fs)\n",
    "    ax.set_ylim(-0.3,0.3)\n",
    "    ax.tick_params(labelsize=fs)\n",
    "    \n",
    "    return binned_x, binned_y"
   ]
  },
  {
   "cell_type": "markdown",
   "metadata": {},
   "source": [
    "<h2 style='text-align: center;'> Results </h2>"
   ]
  },
  {
   "cell_type": "code",
   "execution_count": 42,
   "metadata": {
    "scrolled": true
   },
   "outputs": [
    {
     "data": {
      "text/plain": [
       "1112"
      ]
     },
     "execution_count": 42,
     "metadata": {},
     "output_type": "execute_result"
    }
   ],
   "source": [
    "mdl = data.copy();len(mdl)"
   ]
  },
  {
   "cell_type": "markdown",
   "metadata": {},
   "source": [
    "<h3 style='text-align: left;'> Pre-Processing </h2>"
   ]
  },
  {
   "cell_type": "code",
   "execution_count": 43,
   "metadata": {},
   "outputs": [],
   "source": [
    "# Create a DataFrame with the one-hot encoded columns\n",
    "\n",
    "# Drop first column to avoid the dummy variable trap\n",
    "# ------ One-Hot Country encoding --------------- #\n",
    "one_hot_df = pd.get_dummies(mdl.Country, drop_first=True)\n",
    "mdl = pd.concat([mdl, one_hot_df], axis=1)\n",
    "FE_country_ = ['India',\n",
    "              'Mexico',\n",
    "              'South Africa',\n",
    "              'Indonesia',\n",
    "              'Thailand',\n",
    "              ]\n",
    "\n",
    "# ------ One-Hot Tenor encoding --------------- #\n",
    "one_hot_df = pd.get_dummies(mdl.Tenor_bracket, drop_first = True)\n",
    "one_hot_df=one_hot_df.rename(columns = {'0-5 yrs':'tenor_1',\n",
    "                    '5-10 yrs': 'tenor_2',\n",
    "                    '>10 yrs': 'tenor_3',\n",
    "                             } )\n",
    "mdl = pd.concat([mdl, one_hot_df], axis=1)\n",
    "FE_tenor_ = ['tenor_{}'.format(i) for i in [1,2,3]] \n",
    "\n",
    "#-------- TRANSFORM VARIABLES ------------#\n",
    "mdl['Amount'] = mdl['Amount'].apply(lambda x: np.log(x))\n",
    "mdl['WUI'] = mdl['WUI'].apply(lambda x: x/1000)"
   ]
  },
  {
   "cell_type": "code",
   "execution_count": 53,
   "metadata": {},
   "outputs": [
    {
     "name": "stdout",
     "output_type": "stream",
     "text": [
      "Optimization terminated successfully.\n",
      "         Current function value: 0.352281\n",
      "         Iterations 8\n",
      "Optimization terminated successfully.\n",
      "         Current function value: 0.362177\n",
      "         Iterations 7\n"
     ]
    },
    {
     "data": {
      "text/html": [
       "<div>\n",
       "<style scoped>\n",
       "    .dataframe tbody tr th:only-of-type {\n",
       "        vertical-align: middle;\n",
       "    }\n",
       "\n",
       "    .dataframe tbody tr th {\n",
       "        vertical-align: top;\n",
       "    }\n",
       "\n",
       "    .dataframe thead th {\n",
       "        text-align: right;\n",
       "    }\n",
       "</style>\n",
       "<table border=\"1\" class=\"dataframe\">\n",
       "  <thead>\n",
       "    <tr style=\"text-align: right;\">\n",
       "      <th></th>\n",
       "      <th>FX_RISK</th>\n",
       "      <th>SOV_RISK</th>\n",
       "      <th>POL_RISK</th>\n",
       "      <th>VIX</th>\n",
       "      <th>AMOUNT</th>\n",
       "      <th>DOMESITC</th>\n",
       "      <th>BOND</th>\n",
       "      <th>GDP_GROWTH</th>\n",
       "      <th>TENOR</th>\n",
       "      <th>$R^2$</th>\n",
       "      <th>Accuracy</th>\n",
       "    </tr>\n",
       "  </thead>\n",
       "  <tbody>\n",
       "    <tr>\n",
       "      <th>Reg 1</th>\n",
       "      <td>78.69*(12.54)</td>\n",
       "      <td>0.33*(0.08)</td>\n",
       "      <td>0.14 (0.41)</td>\n",
       "      <td>0.04*(0.01)</td>\n",
       "      <td>0.69*(0.07)</td>\n",
       "      <td>-5.47*(0.69)</td>\n",
       "      <td>-1.93*(0.25)</td>\n",
       "      <td>0.03 (0.03)</td>\n",
       "      <td>-0.09*(0.02)</td>\n",
       "      <td>0.41</td>\n",
       "      <td>84.7</td>\n",
       "    </tr>\n",
       "    <tr>\n",
       "      <th>Reg 2</th>\n",
       "      <td>106.26*(11.43)</td>\n",
       "      <td>NaN</td>\n",
       "      <td>0.44 (0.40)</td>\n",
       "      <td>0.06*(0.01)</td>\n",
       "      <td>0.66*(0.07)</td>\n",
       "      <td>-4.08*(0.45)</td>\n",
       "      <td>-1.66*(0.23)</td>\n",
       "      <td>0.05 (0.03)</td>\n",
       "      <td>-0.06*(0.02)</td>\n",
       "      <td>0.40</td>\n",
       "      <td>84.2</td>\n",
       "    </tr>\n",
       "  </tbody>\n",
       "</table>\n",
       "</div>"
      ],
      "text/plain": [
       "              FX_RISK     SOV_RISK     POL_RISK          VIX       AMOUNT  \\\n",
       "Reg 1   78.69*(12.54)  0.33*(0.08)  0.14 (0.41)  0.04*(0.01)  0.69*(0.07)   \n",
       "Reg 2  106.26*(11.43)          NaN  0.44 (0.40)  0.06*(0.01)  0.66*(0.07)   \n",
       "\n",
       "           DOMESITC          BOND   GDP_GROWTH         TENOR $R^2$ Accuracy  \n",
       "Reg 1  -5.47*(0.69)  -1.93*(0.25)  0.03 (0.03)  -0.09*(0.02)  0.41     84.7  \n",
       "Reg 2  -4.08*(0.45)  -1.66*(0.23)  0.05 (0.03)  -0.06*(0.02)  0.40     84.2  "
      ]
     },
     "execution_count": 53,
     "metadata": {},
     "output_type": "execute_result"
    }
   ],
   "source": [
    "### Table for main\n",
    "vars_cntrl_ = ['Amount','Domestic','Bond',\n",
    "              'GDP Growth','Tenor']\n",
    "\n",
    "vars_list_ = [\n",
    "        ['FX_short','Ratings FC','Pol_Risk','VIX'] + vars_cntrl_ + FE_country_,\n",
    "        ['FX_short','Pol_Risk','VIX'] + vars_cntrl_ + FE_country_,\n",
    "        ]\n",
    "\n",
    "all_vars_ = ['FX_short','Ratings FC','Pol_Risk','VIX'] + \\\n",
    "             vars_cntrl_\n",
    "\n",
    "log_reg = {}\n",
    "for i,vars_ in enumerate(vars_list_):\n",
    "    log_reg[i] = \\\n",
    "     sm.Logit(mdl.FCY, mdl[vars_].to_numpy()).fit(maxiter=1000)\n",
    "    \n",
    "df_results = pd.DataFrame(\n",
    "                columns=[i for i,v in enumerate(vars_list_)],\n",
    "                index = all_vars_\n",
    "                        )\n",
    "\n",
    "for i, vars_ in enumerate(vars_list_):\n",
    "    for j,v in enumerate(vars_):\n",
    "        if v in all_vars_:\n",
    "            df_results.loc[v][i] = '{:.2f}{}({:.2f})'.format(\n",
    "                            log_reg[i].params[j],\n",
    "                            getSig_short(log_reg[i].pvalues[j]),\n",
    "                            #log_reg[i].pvalues[j],\n",
    "                            log_reg[i].bse[j])\n",
    "\n",
    "accuracy = []\n",
    "for i,lr in log_reg.items():\n",
    "    X_train, X_test, y_train, y_test = train_test_split(\n",
    "                    mdl[vars_list_[i]],\n",
    "                    mdl.FCY,test_size=0.33, random_state=20)\n",
    "\n",
    "    y_prob = lr.predict(X_test)\n",
    "    y_pred = [0 if p<0.5 else 1 for p in y_prob]\n",
    "\n",
    "    # model accuracy versus guess major class\n",
    "    accuracy.append(metrics.accuracy_score(y_test.values, y_pred))\n",
    "\n",
    "#df_results.loc['Observations'] = [len(mdl)]*len(vars_list_)\n",
    "df_results.loc['$R^2$'] = \\\n",
    "                ['{:.2f}'.format(log_reg[i].prsquared) \n",
    "                for i in log_reg.keys()]\n",
    "\"\"\"df_results.loc['Log-likehood Ratio'] = \\\n",
    "                ['{:.2f}'.format(log_reg[i].llr )\n",
    "                                   for i in log_reg.keys()]\"\"\"\n",
    "df_results.loc['Accuracy'] = \\\n",
    "                ['{:.1f}'.format(100*a) for a in accuracy]\n",
    "\n",
    "df_results=df_results.rename(columns={i:'Reg {}'.format(i+1)\n",
    "                          for i in log_reg.keys()})\n",
    "\n",
    "np.set_printoptions(linewidth=110)\n",
    "df_results=df_results.rename(index = {'FX_short':'FX_RISK',\n",
    "                          'Ratings FC':'SOV_RISK',\n",
    "                          'Pol_Risk': 'POL_RISK',\n",
    "                                     'Amount':'AMOUNT',\n",
    "                                     'Domestic':'DOMESITC',\n",
    "                                     'Bond':'BOND',\n",
    "                                     'GDP Growth':'GDP_GROWTH',\n",
    "                                     'Tenor':'TENOR'})\n",
    "df_results.transpose()"
   ]
  },
  {
   "cell_type": "code",
   "execution_count": 64,
   "metadata": {},
   "outputs": [
    {
     "data": {
      "text/plain": [
       "(741, 371, 322)"
      ]
     },
     "execution_count": 64,
     "metadata": {},
     "output_type": "execute_result"
    }
   ],
   "source": [
    "sum(mdl.Bond==0),sum(mdl.Bond==1), sum(mdl.FCY==1)"
   ]
  },
  {
   "cell_type": "code",
   "execution_count": 45,
   "metadata": {},
   "outputs": [],
   "source": [
    "df_results.transpose().to_csv('./../results/results_main.csv')"
   ]
  },
  {
   "cell_type": "markdown",
   "metadata": {},
   "source": [
    "<h3 style='text-align: left;'> Binned Residuals</h3>"
   ]
  },
  {
   "cell_type": "code",
   "execution_count": 165,
   "metadata": {
    "scrolled": true
   },
   "outputs": [
    {
     "data": {
      "image/png": "[encoded data removed]",
      "text/plain": [
       "<Figure size 720x360 with 1 Axes>"
      ]
     },
     "metadata": {
      "needs_background": "light"
     },
     "output_type": "display_data"
    }
   ],
   "source": [
    "binned_x, binned_y = plotResidualsPredicted(\n",
    "    log_reg[0],mdl[vars_list_[0]],mdl.FCY)"
   ]
  },
  {
   "cell_type": "markdown",
   "metadata": {},
   "source": [
    "<h3 style='text-align: left;'> Likelihood Ratio </h2>"
   ]
  },
  {
   "cell_type": "code",
   "execution_count": 174,
   "metadata": {},
   "outputs": [],
   "source": [
    "def LL(X,y,b):\n",
    "    if len(X)!=len(y):\n",
    "        print('X and y are not the same length.')\n",
    "        return\n",
    "    n = len(X)\n",
    "    return sum([y.values[i]*np.dot(b,X[i])-\n",
    "                np.log(1+np.exp(np.dot(b,X[i]))) for i in range(n)])"
   ]
  },
  {
   "cell_type": "code",
   "execution_count": 186,
   "metadata": {},
   "outputs": [],
   "source": [
    "log_reg0 = sm.Logit(mdl.FCY, mdl[vars_].to_numpy()).fit(maxiter=1000)"
   ]
  },
  {
   "cell_type": "code",
   "execution_count": 200,
   "metadata": {},
   "outputs": [
    {
     "data": {
      "text/plain": [
       "347.01190191323076"
      ]
     },
     "execution_count": 200,
     "metadata": {},
     "output_type": "execute_result"
    }
   ],
   "source": [
    "-2*(log_reg0.llr-log_reg[0].llr)"
   ]
  },
  {
   "cell_type": "code",
   "execution_count": 194,
   "metadata": {},
   "outputs": [
    {
     "data": {
      "text/plain": [
       "338.00085288105834"
      ]
     },
     "execution_count": 194,
     "metadata": {},
     "output_type": "execute_result"
    }
   ],
   "source": [
    "log_reg0.llr"
   ]
  },
  {
   "cell_type": "code",
   "execution_count": 199,
   "metadata": {},
   "outputs": [
    {
     "data": {
      "text/plain": [
       "1.89604291534501e-77"
      ]
     },
     "execution_count": 199,
     "metadata": {},
     "output_type": "execute_result"
    }
   ],
   "source": [
    "chi2.sf(-2*(log_reg0.llr-log_reg[0].llr), 1) # L2 has 1 DoF more than L1"
   ]
  },
  {
   "cell_type": "code",
   "execution_count": 41,
   "metadata": {},
   "outputs": [
    {
     "name": "stdout",
     "output_type": "stream",
     "text": [
      "Optimization terminated successfully.\n",
      "         Current function value: 0.449786\n",
      "         Iterations 7\n",
      "Optimization terminated successfully.\n",
      "         Current function value: 0.371771\n",
      "         Iterations 7\n",
      "Optimization terminated successfully.\n",
      "         Current function value: 0.380573\n",
      "         Iterations 7\n",
      "Optimization terminated successfully.\n",
      "         Current function value: 0.443023\n",
      "         Iterations 7\n",
      "Optimization terminated successfully.\n",
      "         Current function value: 0.417052\n",
      "         Iterations 7\n"
     ]
    },
    {
     "data": {
      "text/html": [
       "<div>\n",
       "<style scoped>\n",
       "    .dataframe tbody tr th:only-of-type {\n",
       "        vertical-align: middle;\n",
       "    }\n",
       "\n",
       "    .dataframe tbody tr th {\n",
       "        vertical-align: top;\n",
       "    }\n",
       "\n",
       "    .dataframe thead th {\n",
       "        text-align: right;\n",
       "    }\n",
       "</style>\n",
       "<table border=\"1\" class=\"dataframe\">\n",
       "  <thead>\n",
       "    <tr style=\"text-align: right;\">\n",
       "      <th></th>\n",
       "      <th>Reg 1</th>\n",
       "      <th>Reg 2</th>\n",
       "      <th>Reg 3</th>\n",
       "      <th>Reg 4</th>\n",
       "    </tr>\n",
       "  </thead>\n",
       "  <tbody>\n",
       "    <tr>\n",
       "      <th>FX_RISK</th>\n",
       "      <td>110.86*(10.37)</td>\n",
       "      <td>NaN</td>\n",
       "      <td>NaN</td>\n",
       "      <td>NaN</td>\n",
       "    </tr>\n",
       "    <tr>\n",
       "      <th>SOV_RISK</th>\n",
       "      <td>NaN</td>\n",
       "      <td>0.59*(0.06)</td>\n",
       "      <td>NaN</td>\n",
       "      <td>NaN</td>\n",
       "    </tr>\n",
       "    <tr>\n",
       "      <th>POL_RISK</th>\n",
       "      <td>NaN</td>\n",
       "      <td>NaN</td>\n",
       "      <td>-1.34*(0.35)</td>\n",
       "      <td>NaN</td>\n",
       "    </tr>\n",
       "    <tr>\n",
       "      <th>VIX</th>\n",
       "      <td>NaN</td>\n",
       "      <td>NaN</td>\n",
       "      <td>NaN</td>\n",
       "      <td>0.09*(0.01)</td>\n",
       "    </tr>\n",
       "    <tr>\n",
       "      <th>AMOUNT</th>\n",
       "      <td>0.67*(0.07)</td>\n",
       "      <td>0.64*(0.07)</td>\n",
       "      <td>0.53*(0.06)</td>\n",
       "      <td>0.53*(0.06)</td>\n",
       "    </tr>\n",
       "    <tr>\n",
       "      <th>DOMESTIC</th>\n",
       "      <td>-3.36*(0.38)</td>\n",
       "      <td>-4.57*(0.52)</td>\n",
       "      <td>-1.71*(0.28)</td>\n",
       "      <td>-2.46*(0.31)</td>\n",
       "    </tr>\n",
       "    <tr>\n",
       "      <th>BOND</th>\n",
       "      <td>-1.46*(0.22)</td>\n",
       "      <td>-1.84*(0.24)</td>\n",
       "      <td>-0.59*(0.17)</td>\n",
       "      <td>-1.08*(0.20)</td>\n",
       "    </tr>\n",
       "    <tr>\n",
       "      <th>GDP_GROWTH</th>\n",
       "      <td>0.04 (0.03)</td>\n",
       "      <td>-0.01 (0.02)</td>\n",
       "      <td>0.01 (0.02)</td>\n",
       "      <td>0.04 (0.02)</td>\n",
       "    </tr>\n",
       "    <tr>\n",
       "      <th>TENOR</th>\n",
       "      <td>-0.05*(0.02)</td>\n",
       "      <td>-0.10*(0.02)</td>\n",
       "      <td>-0.00 (0.01)</td>\n",
       "      <td>-0.02 (0.01)</td>\n",
       "    </tr>\n",
       "    <tr>\n",
       "      <th>Observations</th>\n",
       "      <td>1112</td>\n",
       "      <td>1112</td>\n",
       "      <td>1112</td>\n",
       "      <td>1112</td>\n",
       "    </tr>\n",
       "    <tr>\n",
       "      <th>McFaddens R-squared</th>\n",
       "      <td>0.38</td>\n",
       "      <td>0.37</td>\n",
       "      <td>0.26</td>\n",
       "      <td>0.31</td>\n",
       "    </tr>\n",
       "    <tr>\n",
       "      <th>Log-likehood Ratio</th>\n",
       "      <td>511.51</td>\n",
       "      <td>491.93</td>\n",
       "      <td>353.04</td>\n",
       "      <td>410.80</td>\n",
       "    </tr>\n",
       "    <tr>\n",
       "      <th>Accuracy</th>\n",
       "      <td>84.2</td>\n",
       "      <td>86.9</td>\n",
       "      <td>80.1</td>\n",
       "      <td>81.5</td>\n",
       "    </tr>\n",
       "  </tbody>\n",
       "</table>\n",
       "</div>"
      ],
      "text/plain": [
       "                              Reg 1         Reg 2         Reg 3         Reg 4\n",
       "FX_RISK              110.86*(10.37)           NaN           NaN           NaN\n",
       "SOV_RISK                        NaN   0.59*(0.06)           NaN           NaN\n",
       "POL_RISK                        NaN           NaN  -1.34*(0.35)           NaN\n",
       "VIX                             NaN           NaN           NaN   0.09*(0.01)\n",
       "AMOUNT                  0.67*(0.07)   0.64*(0.07)   0.53*(0.06)   0.53*(0.06)\n",
       "DOMESTIC               -3.36*(0.38)  -4.57*(0.52)  -1.71*(0.28)  -2.46*(0.31)\n",
       "BOND                   -1.46*(0.22)  -1.84*(0.24)  -0.59*(0.17)  -1.08*(0.20)\n",
       "GDP_GROWTH              0.04 (0.03)  -0.01 (0.02)   0.01 (0.02)   0.04 (0.02)\n",
       "TENOR                  -0.05*(0.02)  -0.10*(0.02)  -0.00 (0.01)  -0.02 (0.01)\n",
       "Observations                   1112          1112          1112          1112\n",
       "McFaddens R-squared            0.38          0.37          0.26          0.31\n",
       "Log-likehood Ratio           511.51        491.93        353.04        410.80\n",
       "Accuracy                       84.2          86.9          80.1          81.5"
      ]
     },
     "execution_count": 41,
     "metadata": {},
     "output_type": "execute_result"
    }
   ],
   "source": [
    "### Table for main\n",
    "vars_cntrl_ = ['Amount','Domestic','Bond',\n",
    "              'GDP Growth','Tenor']\n",
    "\n",
    "log_reg0 = sm.Logit(mdl.FCY, mdl[vars_cntrl_+FE_country_].to_numpy()).fit(maxiter=1000)\n",
    "\n",
    "vars_list_ = [\n",
    "        ['FX_short'] + vars_cntrl_ + FE_country_,\n",
    "        ['Ratings FC'] + vars_cntrl_ + FE_country_,\n",
    "        ['Pol_Risk'] + vars_cntrl_ + FE_country_,\n",
    "        ['VIX'] + vars_cntrl_ + FE_country_,\n",
    "        ]\n",
    "\n",
    "all_vars_ = ['FX_short','Ratings FC','Pol_Risk','VIX'] + \\\n",
    "             vars_cntrl_\n",
    "\n",
    "log_reg = {}\n",
    "for i,vars_ in enumerate(vars_list_):\n",
    "    log_reg[i] = \\\n",
    "     sm.Logit(mdl.FCY, mdl[vars_].to_numpy()).fit(maxiter=1000)\n",
    "    \n",
    "df_results = pd.DataFrame(\n",
    "                columns=[i for i,v in enumerate(vars_list_)],\n",
    "                index = all_vars_\n",
    "                        )\n",
    "\n",
    "for i, vars_ in enumerate(vars_list_):\n",
    "    for j,v in enumerate(vars_):\n",
    "        if v in all_vars_:\n",
    "            df_results.loc[v][i] = '{:.2f}{}({:.2f})'.format(\n",
    "                            log_reg[i].params[j],\n",
    "                            getSig_short(log_reg[i].pvalues[j]),\n",
    "                            #log_reg[i].pvalues[j],\n",
    "                            log_reg[i].bse[j])\n",
    "\n",
    "accuracy = []\n",
    "for i,lr in log_reg.items():\n",
    "    X_train, X_test, y_train, y_test = train_test_split(\n",
    "                    mdl[vars_list_[i]],\n",
    "                    mdl.FCY,test_size=0.33, random_state=20)\n",
    "\n",
    "    y_prob = lr.predict(X_test)\n",
    "    y_pred = [0 if p<0.5 else 1 for p in y_prob]\n",
    "\n",
    "    # model accuracy versus guess major class\n",
    "    accuracy.append(metrics.accuracy_score(y_test.values, y_pred))\n",
    "\n",
    "df_results.loc['Observations'] = [len(mdl)]*len(vars_list_)\n",
    "df_results.loc['McFaddens R-squared'] = \\\n",
    "                ['{:.2f}'.format(log_reg[i].prsquared) \n",
    "                for i in log_reg.keys()]\n",
    "\n",
    "# LLR\n",
    "p = [chi2.sf(-2*(log_reg0.llr-log_reg[i].llr), 1) for i in log_reg.keys()]\n",
    "df_results.loc['Log-likehood Ratio'] = \\\n",
    "                ['{:.2f}'.format(log_reg[i].llr )\n",
    "                                   for i in log_reg.keys()]\n",
    "df_results.loc['Accuracy'] = \\\n",
    "                ['{:.1f}'.format(100*a) for a in accuracy]\n",
    "\n",
    "df_results=df_results.rename(columns={i:'Reg {}'.format(i+1)\n",
    "                          for i in log_reg.keys()})\n",
    "\n",
    "np.set_printoptions(linewidth=110)\n",
    "df_results=df_results.rename(index= {'FX_short':'FX_RISK',\n",
    "                           'Ratings FC': 'SOV_RISK',\n",
    "                           'Pol_Risk':'POL_RISK',\n",
    "                           'Amount':'AMOUNT',\n",
    "                           'Domestic':'DOMESTIC',\n",
    "                           'Bond':'BOND',\n",
    "                           'GDP Growth': 'GDP_GROWTH',\n",
    "                           'Tenor':'TENOR'})\n",
    "#df_results.transpose()\n",
    "df_results"
   ]
  },
  {
   "cell_type": "code",
   "execution_count": 212,
   "metadata": {},
   "outputs": [],
   "source": [
    "df_results.to_csv('./../results/Table_S3.csv')"
   ]
  },
  {
   "cell_type": "markdown",
   "metadata": {},
   "source": [
    "<h3 style='text-align: left;'> AUC</h3>"
   ]
  },
  {
   "cell_type": "code",
   "execution_count": 167,
   "metadata": {},
   "outputs": [],
   "source": [
    "X_train, X_test, y_train, y_test = train_test_split(\n",
    "                    mdl[vars_list_[0]],\n",
    "                    mdl.FCY,test_size=0.33, random_state=20)"
   ]
  },
  {
   "cell_type": "code",
   "execution_count": 168,
   "metadata": {},
   "outputs": [],
   "source": [
    "y_prob = log_reg[0].predict(X_test)"
   ]
  },
  {
   "cell_type": "code",
   "execution_count": 169,
   "metadata": {},
   "outputs": [
    {
     "data": {
      "text/plain": [
       "Counter({0: 260, 1: 107})"
      ]
     },
     "execution_count": 169,
     "metadata": {},
     "output_type": "execute_result"
    }
   ],
   "source": [
    "Counter(y_test)"
   ]
  },
  {
   "cell_type": "code",
   "execution_count": 170,
   "metadata": {},
   "outputs": [],
   "source": [
    "y_pred = [0 if p<0.5 else 1 for p in y_prob]"
   ]
  },
  {
   "cell_type": "code",
   "execution_count": 171,
   "metadata": {},
   "outputs": [
    {
     "data": {
      "text/plain": [
       "(0.8474114441416893, 0.7084468664850136)"
      ]
     },
     "execution_count": 171,
     "metadata": {},
     "output_type": "execute_result"
    }
   ],
   "source": [
    "# model accuracy versus guess major class\n",
    "metrics.accuracy_score(y_test.values, y_pred),\\\n",
    "metrics.accuracy_score(y_test.values, [0]*len(y_test))"
   ]
  },
  {
   "cell_type": "code",
   "execution_count": 172,
   "metadata": {},
   "outputs": [
    {
     "data": {
      "image/png": "[encoded data removed]",
      "text/plain": [
       "<Figure size 360x360 with 1 Axes>"
      ]
     },
     "metadata": {
      "needs_background": "light"
     },
     "output_type": "display_data"
    }
   ],
   "source": [
    "fig, ax = plt.subplots(1,1, figsize=(5,5))\n",
    "fs=14\n",
    "auc = metrics.roc_auc_score(y_test, y_prob)\n",
    "fpr, tpr, _ = metrics.roc_curve(y_test,  y_prob)\n",
    "ax.plot(fpr,tpr,label='AUC = {:.2f}'.format(auc))\n",
    "ax.tick_params(labelsize=fs)\n",
    "ax.legend(loc=4, fontsize=fs)\n",
    "ax.set_title('AUC', fontsize=fs);\n",
    "ax.set_ylabel('Sensitivity', fontsize=fs);\n",
    "ax.set_xlabel('1-Specificity', fontsize=fs);"
   ]
  },
  {
   "cell_type": "markdown",
   "metadata": {},
   "source": [
    "<h3 style='text-align: left;'> Country by country accuracy</h3>"
   ]
  },
  {
   "cell_type": "code",
   "execution_count": 173,
   "metadata": {},
   "outputs": [
    {
     "name": "stdout",
     "output_type": "stream",
     "text": [
      "India 0.82 0.75\n",
      "Mexico 0.81 0.52\n",
      "Brazil 0.87 0.78\n",
      "South Africa 0.90 0.78\n",
      "Indonesia 0.77 0.69\n",
      "Thailand 0.85 0.81\n"
     ]
    }
   ],
   "source": [
    "for c in countries:\n",
    "    X_test, y_test = mdl[mdl.Country==c][vars_list_[0]],\\\n",
    "                     mdl[mdl.Country==c].FCY\n",
    "    y_prob = log_reg[0].predict(X_test)\n",
    "    y_pred = [0 if p<0.5 else 1 for p in y_prob]\n",
    "    y_guess = [Counter(y_test).most_common()[0][0]]*len(y_test)\n",
    "    print(c,\n",
    "          '{:.2f}'.format(\n",
    "              metrics.accuracy_score(y_test.values, y_pred)),\n",
    "        '{:.2f}'.format(\n",
    "              metrics.accuracy_score(y_test.values, y_guess)))"
   ]
  },
  {
   "cell_type": "code",
   "execution_count": null,
   "metadata": {},
   "outputs": [],
   "source": []
  }
 ],
 "metadata": {
  "kernelspec": {
   "display_name": "Python 3",
   "language": "python",
   "name": "python3"
  },
  "language_info": {
   "codemirror_mode": {
    "name": "ipython",
    "version": 3
   },
   "file_extension": ".py",
   "mimetype": "text/x-python",
   "name": "python",
   "nbconvert_exporter": "python",
   "pygments_lexer": "ipython3",
   "version": "3.7.3"
  }
 },
 "nbformat": 4,
 "nbformat_minor": 4
}
