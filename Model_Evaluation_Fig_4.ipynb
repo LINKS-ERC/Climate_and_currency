{
 "cells": [
  {
   "cell_type": "code",
   "execution_count": 1,
   "metadata": {
    "scrolled": false
   },
   "outputs": [],
   "source": [
    "import os;import sys\n",
    "import pandas as pd;import numpy as np;from itertools import combinations, permutations, product\n",
    "from datetime import datetime;from datetime import date\n",
    "from collections import Counter;import matplotlib ; from matplotlib import pyplot as plt\n",
    "import networkx as nx; from matplotlib.ticker import (MultipleLocator, FormatStrFormatter,AutoMinorLocator)\n",
    "from scipy.io import loadmat\n",
    "from scipy.sparse import csr_matrix\n",
    "from scipy import stats\n",
    "from sknetwork.clustering import Louvain, BiLouvain, modularity, bimodularity\n",
    "import nbimporter ; import importlib as imp ; from scipy.optimize import minimize \n",
    "from scipy.optimize import LinearConstraint\n",
    "import seaborn as sns\n",
    "from sklearn import linear_model\n",
    "from sklearn.linear_model import LinearRegression\n",
    "from sklearn.metrics import mean_squared_error\n",
    "from sklearn.metrics import r2_score\n",
    "from sklearn.metrics import (confusion_matrix,  \n",
    "                           accuracy_score) \n",
    "  \n",
    "from sklearn.preprocessing import StandardScaler,MinMaxScaler\n",
    "\n",
    "from random import gauss, random, choices\n",
    "import pickle; import math\n",
    "import geopandas as gpd\n",
    "import re\n",
    "from sklearn.linear_model import LogisticRegression\n",
    "from sklearn.model_selection import train_test_split\n",
    "from statsmodels.stats.outliers_influence import variance_inflation_factor \n",
    "from statsmodels.tools.tools import add_constant\n",
    "from scipy.stats.distributions import chi2\n"
   ]
  },
  {
   "cell_type": "code",
   "execution_count": 2,
   "metadata": {},
   "outputs": [],
   "source": [
    "import statsmodels.api as sm "
   ]
  },
  {
   "cell_type": "code",
   "execution_count": 3,
   "metadata": {},
   "outputs": [],
   "source": [
    "path=os.getcwd()"
   ]
  },
  {
   "cell_type": "code",
   "execution_count": 4,
   "metadata": {},
   "outputs": [],
   "source": [
    "def flatten(L):\n",
    "    return [l for ll in L for l in ll]"
   ]
  },
  {
   "cell_type": "code",
   "execution_count": 5,
   "metadata": {},
   "outputs": [],
   "source": [
    "def partition(l, nbin):\n",
    "    dw = int(np.ceil(len(l)/nbin))\n",
    "    ll = []\n",
    "    i0 = 0\n",
    "    while i0+dw<len(l):\n",
    "        ll.append(l[i0:i0+dw])\n",
    "        i0+=dw\n",
    "    if i0 < len(l):\n",
    "        ll[-1] = ll[-1]+l[i0:]\n",
    "    return ll"
   ]
  },
  {
   "cell_type": "code",
   "execution_count": null,
   "metadata": {},
   "outputs": [],
   "source": []
  },
  {
   "cell_type": "markdown",
   "metadata": {},
   "source": [
    "<h2 style='text-align: center;'> Import Model Data </h2>"
   ]
  },
  {
   "cell_type": "code",
   "execution_count": 6,
   "metadata": {},
   "outputs": [],
   "source": [
    "indicator_df = pd.read_csv('./../indicators/indicator_df.csv')\n",
    "indicator_df = indicator_df.rename(columns={'Unnamed: 0': 'Country','Unnamed: 1':'Indicator'})\n",
    "indicator_df = indicator_df.set_index(['Country','Indicator'])"
   ]
  },
  {
   "cell_type": "code",
   "execution_count": 7,
   "metadata": {},
   "outputs": [],
   "source": [
    "data = pd.read_csv('./../indicators/model_data_bonds_loans_df.csv')"
   ]
  },
  {
   "cell_type": "code",
   "execution_count": 8,
   "metadata": {},
   "outputs": [],
   "source": [
    "countries = [\n",
    "         'India',\n",
    "         'Mexico',\n",
    "         'Brazil',\n",
    "         'South Africa',\n",
    "         'Indonesia',\n",
    "         'Thailand',\n",
    "        ]"
   ]
  },
  {
   "cell_type": "code",
   "execution_count": 9,
   "metadata": {},
   "outputs": [],
   "source": [
    "data = data[(data.Country.apply(lambda x: x in countries))\n",
    "           &(data.Corporate==1)]"
   ]
  },
  {
   "cell_type": "code",
   "execution_count": 10,
   "metadata": {},
   "outputs": [],
   "source": [
    "data['FCY']=data.LCY.apply(lambda x: 1 if x==0 else 0)"
   ]
  },
  {
   "cell_type": "markdown",
   "metadata": {},
   "source": [
    "<h2 style='text-align: center;'> Results </h2>"
   ]
  },
  {
   "cell_type": "code",
   "execution_count": 11,
   "metadata": {},
   "outputs": [
    {
     "data": {
      "text/plain": [
       "1112"
      ]
     },
     "execution_count": 11,
     "metadata": {},
     "output_type": "execute_result"
    }
   ],
   "source": [
    "mdl = data.copy();len(mdl)"
   ]
  },
  {
   "cell_type": "markdown",
   "metadata": {},
   "source": [
    "<h3 style='text-align: left;'> One-hot Country encoding </h2>"
   ]
  },
  {
   "cell_type": "code",
   "execution_count": 12,
   "metadata": {},
   "outputs": [],
   "source": [
    "# Create a DataFrame with the one-hot encoded columns\n",
    "# Drop first column to avoid the dummy variable trap\n",
    "one_hot_df = pd.get_dummies(mdl.Country, drop_first=True)\n",
    "mdl = pd.concat([mdl, one_hot_df], axis=1)"
   ]
  },
  {
   "cell_type": "markdown",
   "metadata": {},
   "source": [
    "<h3 style='text-align: left;'> One-hot Tenor encoding </h2>"
   ]
  },
  {
   "cell_type": "code",
   "execution_count": 13,
   "metadata": {
    "scrolled": true
   },
   "outputs": [],
   "source": [
    "one_hot_df = pd.get_dummies(mdl.Tenor_bracket)"
   ]
  },
  {
   "cell_type": "code",
   "execution_count": 14,
   "metadata": {},
   "outputs": [],
   "source": [
    "one_hot_df=one_hot_df.rename(columns = {'0-5 yrs':'tenor_1',\n",
    "                    '5-10 yrs': 'tenor_2',\n",
    "                    '>10 yrs': 'tenor_3',\n",
    "                             } )"
   ]
  },
  {
   "cell_type": "code",
   "execution_count": 15,
   "metadata": {},
   "outputs": [],
   "source": [
    "mdl = pd.concat([mdl, one_hot_df], axis=1)"
   ]
  },
  {
   "cell_type": "code",
   "execution_count": 16,
   "metadata": {},
   "outputs": [],
   "source": [
    "mdl['Amount'] = mdl['Amount'].apply(lambda x: np.log(x))"
   ]
  },
  {
   "cell_type": "code",
   "execution_count": 17,
   "metadata": {},
   "outputs": [],
   "source": [
    "FE_country_ = ['India','Indonesia','Mexico','South Africa','Thailand']\n",
    "FE_tenor_ = ['tenor_{}'.format(i) for i in [1,2,3]] "
   ]
  },
  {
   "cell_type": "code",
   "execution_count": 18,
   "metadata": {},
   "outputs": [],
   "source": [
    "vars_cntrl_ = ['Amount','Domestic','Bond',\n",
    "              'GDP Growth','Tenor']"
   ]
  },
  {
   "cell_type": "code",
   "execution_count": 19,
   "metadata": {},
   "outputs": [],
   "source": [
    "all_vars_ = ['FX_short','Ratings FC','VIX','Pol_Risk']\\\n",
    "            + vars_cntrl_ \\\n",
    "            + FE_country_ "
   ]
  },
  {
   "cell_type": "code",
   "execution_count": 20,
   "metadata": {},
   "outputs": [],
   "source": [
    "from sklearn import metrics\n",
    "from sklearn.model_selection import train_test_split"
   ]
  },
  {
   "cell_type": "code",
   "execution_count": 21,
   "metadata": {},
   "outputs": [
    {
     "name": "stdout",
     "output_type": "stream",
     "text": [
      "Optimization terminated successfully.\n",
      "         Current function value: 0.352281\n",
      "         Iterations 8\n"
     ]
    }
   ],
   "source": [
    "log_reg = sm.Logit(mdl.FCY, mdl[all_vars_]).fit(maxiter=100)"
   ]
  },
  {
   "cell_type": "code",
   "execution_count": 22,
   "metadata": {},
   "outputs": [
    {
     "data": {
      "text/plain": [
       "0.4145873915627709"
      ]
     },
     "execution_count": 22,
     "metadata": {},
     "output_type": "execute_result"
    }
   ],
   "source": [
    "log_reg.prsquared"
   ]
  },
  {
   "cell_type": "markdown",
   "metadata": {},
   "source": [
    "<h3 style='text-align: left;'> Scenarios </h3>"
   ]
  },
  {
   "cell_type": "markdown",
   "metadata": {},
   "source": [
    "##### Change VIX "
   ]
  },
  {
   "cell_type": "code",
   "execution_count": 23,
   "metadata": {},
   "outputs": [],
   "source": [
    "for c in countries:\n",
    "    VIX = indicator_df.loc[c,'VIX'].values\n",
    "    indicator_df.loc[(c,'VIX_min'),:] = [0]*len((VIX))"
   ]
  },
  {
   "cell_type": "markdown",
   "metadata": {},
   "source": [
    "##### Change FX "
   ]
  },
  {
   "cell_type": "code",
   "execution_count": 24,
   "metadata": {},
   "outputs": [],
   "source": [
    "for c in countries:\n",
    "    FX = indicator_df.loc[c,'FX_short'].values\n",
    "    indicator_df.loc[(c,'FX_short_min'),:] = [min(FX)]*len(FX)"
   ]
  },
  {
   "cell_type": "markdown",
   "metadata": {},
   "source": [
    "##### Change Ratings "
   ]
  },
  {
   "cell_type": "code",
   "execution_count": 25,
   "metadata": {},
   "outputs": [],
   "source": [
    "mean_vals_low = mdl[all_vars_].mean()\n",
    "mean_vals_high = mdl[all_vars_].mean()"
   ]
  },
  {
   "cell_type": "code",
   "execution_count": 26,
   "metadata": {},
   "outputs": [],
   "source": [
    "mean_vals_low['Ratings FC']=5;\n",
    "mean_vals_high['Ratings FC']=13"
   ]
  },
  {
   "cell_type": "code",
   "execution_count": 27,
   "metadata": {},
   "outputs": [
    {
     "data": {
      "text/plain": [
       "(0.03197951056104472, 0.31690268754551315)"
      ]
     },
     "execution_count": 27,
     "metadata": {},
     "output_type": "execute_result"
    }
   ],
   "source": [
    "log_reg.predict(mean_vals_low).values[0],\\\n",
    "log_reg.predict(mean_vals_high).values[0]"
   ]
  },
  {
   "cell_type": "markdown",
   "metadata": {},
   "source": [
    "#### Baseline model"
   ]
  },
  {
   "cell_type": "code",
   "execution_count": 29,
   "metadata": {},
   "outputs": [],
   "source": [
    "years = range(2004,2024)"
   ]
  },
  {
   "cell_type": "code",
   "execution_count": 30,
   "metadata": {},
   "outputs": [],
   "source": [
    "mdl_base = mdl.copy()\n",
    "y_prob = log_reg.predict(mdl_base[all_vars_])\n",
    "y_pred = [0 if p<0.5 else 1 for p in y_prob]\n",
    "mdl_base.FCY = y_pred\n",
    "LCY_base = [mdl_base[(mdl_base.Year==y) &\n",
    "            (mdl_base.FCY==0)].Amount.apply(\n",
    "            lambda x: np.exp(x)).sum() for y in years]\n",
    "FCY_base = [mdl_base[(mdl_base.Year==y) &\n",
    "            (mdl_base.FCY==1)].Amount.apply(\n",
    "            lambda x: np.exp(x)).sum() for y in years]"
   ]
  },
  {
   "cell_type": "code",
   "execution_count": 31,
   "metadata": {},
   "outputs": [],
   "source": [
    "LCY_true = [mdl[(mdl.Year==y) &\n",
    "                    (mdl.FCY==0)].Amount.apply(\n",
    "            lambda x: np.exp(x)).sum() for y in years]\n",
    "FCY_true = [mdl[(mdl.Year==y) &\n",
    "                         (mdl.FCY==1)].Amount.apply(\n",
    "            lambda x: np.exp(x)).sum() for y in years]"
   ]
  },
  {
   "cell_type": "code",
   "execution_count": 32,
   "metadata": {},
   "outputs": [],
   "source": [
    "years = range(2004,2024)"
   ]
  },
  {
   "cell_type": "code",
   "execution_count": 64,
   "metadata": {},
   "outputs": [
    {
     "data": {
      "image/png": "[encoded data removed]",
      "text/plain": [
       "<Figure size 576x432 with 1 Axes>"
      ]
     },
     "metadata": {
      "needs_background": "light"
     },
     "output_type": "display_data"
    }
   ],
   "source": [
    "fig, ax = plt.subplots(1, 1, figsize = (8,6))\n",
    "fs = 16\n",
    "a=0.8\n",
    "\n",
    "ax.fill_between(years,\n",
    "                np.array(FCY_true),\n",
    "                color='orange',\n",
    "                label='True FCY',\n",
    "                alpha=0.8\n",
    "               )\n",
    "\n",
    "\n",
    "ax.fill_between(years,\n",
    "                np.array(LCY_true)+np.array(FCY_true),\n",
    "                np.array(FCY_true),\n",
    "                color='pink',\n",
    "                label='True LCY',\n",
    "                alpha=0.8\n",
    "               )\n",
    "ax.plot(years,\n",
    "       FCY_base,\n",
    "       color='black',\n",
    "         #label='Baseline',\n",
    "       alpha = 0.8,\n",
    "        linestyle='--'\n",
    "       )\n",
    "ax.plot(years,\n",
    "       np.array(FCY_base)+np.array(LCY_base),\n",
    "       color='black',\n",
    "         label='Baseline',\n",
    "        linestyle='--',\n",
    "       alpha = 0.8,\n",
    "       )\n",
    "\n",
    "\"\"\"ax2 = ax.twinx()\n",
    "ax2.plot(np.arange(2020,2024,.25),\n",
    "        indicator_df.loc['Brazil','VIX'][['Q{}-{}'.format(q,y)\n",
    "                                 for y in range(2020,2024)\n",
    "                                 for q in range(1,5)]])\"\"\";\n",
    "\n",
    "\n",
    "ax.legend(fontsize=fs,loc='upper left')\n",
    "ax.set_ylabel('Annual Issued Volumes (USD bn)', fontsize=fs)\n",
    "ax.tick_params(labelsize=fs);\n",
    "ax.set_xticks(np.arange(2004,2028,4));\n",
    "ax.set_xticklabels([int(y) for y in ax.get_xticks()],fontsize=fs);\n",
    "fig.savefig('./../figs/fig_S4.png',dpi=800)"
   ]
  },
  {
   "cell_type": "markdown",
   "metadata": {},
   "source": [
    "#### Scenario Analysis: FX & VIX"
   ]
  },
  {
   "cell_type": "code",
   "execution_count": 33,
   "metadata": {},
   "outputs": [],
   "source": [
    "mdl_scenario, LCY_scenario, FCY_scenario = {}, {}, {}"
   ]
  },
  {
   "cell_type": "code",
   "execution_count": 34,
   "metadata": {},
   "outputs": [],
   "source": [
    "# Create new variable dataframes holding VIX and FX_short at minimum levels\n",
    "for var_, new_var_ in [('VIX', 'VIX_min'),\n",
    "                      ('FX_short', 'FX_short_min')]:\n",
    "    mdl_scenario[var_] = mdl.copy()\n",
    "    mdl_scenario[var_][var_] = \\\n",
    "        mdl_scenario[var_][['Year','Quarter']].apply(\n",
    "    lambda x: indicator_df.loc[c,new_var_][[\n",
    "                        'Q{}-{}'.format(x[1],x[0])]][0] ,\n",
    "                axis=1)"
   ]
  },
  {
   "cell_type": "code",
   "execution_count": 35,
   "metadata": {},
   "outputs": [],
   "source": [
    "# Use fitted model to predict LCY/FCY with VIX_min and FX_short_min scenario\n",
    "for var_, new_var_ in [('VIX', 'VIX_min'),\n",
    "                      ('FX_short', 'FX_short_min')]:\n",
    "\n",
    "    y_prob = log_reg.predict(mdl_scenario[var_][all_vars_])\n",
    "    y_pred = [0 if p<0.5 else 1 for p in y_prob]\n",
    "    mdl_scenario[var_].FCY = y_pred\n",
    "\n",
    "    LCY_scenario[var_] = [mdl_scenario[var_][(mdl_scenario[var_].Year==y) &\n",
    "                    (mdl_scenario[var_].FCY==0)].Amount.apply(\n",
    "            lambda x: np.exp(x)).sum()\n",
    "                            for y in years]\n",
    "    FCY_scenario[var_] = [mdl_scenario[var_][(mdl_scenario[var_].Year==y) &\n",
    "                (mdl_scenario[var_].FCY==1)].Amount.apply(\n",
    "            lambda x: np.exp(x)).sum()\n",
    "                            for y in years]"
   ]
  },
  {
   "cell_type": "code",
   "execution_count": 36,
   "metadata": {},
   "outputs": [],
   "source": [
    "# Create dataframes to store debt holdings in each quarter\n",
    "quarters = ['Q{}-{}'.format(Q,Y) for Y in years \\\n",
    "            for Q in range(1,5)]\n",
    "df = pd.DataFrame(0, \n",
    "                 columns = quarters,\n",
    "                 index = countries)\n",
    "\n",
    "dollar_debt_df = {'base':df.copy(),'VIX':df.copy(),\n",
    "                 'true':df.copy(),'FX':df.copy()}"
   ]
  },
  {
   "cell_type": "code",
   "execution_count": 37,
   "metadata": {},
   "outputs": [],
   "source": [
    "# Calculate foreign debt holdings in each scenario and baseline\n",
    "for data, var_ in [(mdl_scenario['VIX'],'VIX'),(mdl_scenario['FX_short'],'FX'),\n",
    "                   (mdl_base,'base'), (mdl,'true')]:\n",
    "    for i, row in data.iterrows():\n",
    "        q_maturity = int(row.Tenor)*4\n",
    "        amount = np.exp(row.Amount)\n",
    "        country = row.Country\n",
    "        Q0 = 'Q{}-{}'.format(row.Quarter, row.Year)\n",
    "        if (row.FCY == 1) & (Q0 in quarters): \n",
    "            Q0_index = quarters.index(Q0)\n",
    "            for q in range(Q0_index, Q0_index + q_maturity):\n",
    "                dollar_debt_df[var_].loc[country,\n",
    "                                         quarters[q]] += \\\n",
    "                        amount\n",
    "                if q+1==len(quarters): break"
   ]
  },
  {
   "cell_type": "code",
   "execution_count": 38,
   "metadata": {},
   "outputs": [],
   "source": [
    "true_FCY=[dollar_debt_df['true'][['Q{}-{}'.format(q,y) for q \n",
    "                       in range(1,5)]].sum(axis=1)[0]\n",
    " for y in range(2004,2024)]"
   ]
  },
  {
   "cell_type": "code",
   "execution_count": 39,
   "metadata": {},
   "outputs": [],
   "source": [
    "VIX_FCY=[dollar_debt_df['VIX'][['Q{}-{}'.format(q,y) for q \n",
    "                       in range(1,5)]].sum(axis=1)[0]\n",
    " for y in range(2004,2024)]"
   ]
  },
  {
   "cell_type": "code",
   "execution_count": 40,
   "metadata": {},
   "outputs": [],
   "source": [
    "base_FCY=[dollar_debt_df['base'][['Q{}-{}'.format(q,y) for q \n",
    "                       in range(1,5)]].sum(axis=1)[0]\n",
    " for y in range(2004,2024)]"
   ]
  },
  {
   "cell_type": "code",
   "execution_count": 41,
   "metadata": {},
   "outputs": [],
   "source": [
    "FX_FCY=[dollar_debt_df['FX'][['Q{}-{}'.format(q,y) for q \n",
    "                       in range(1,5)]].sum(axis=1)[0]\n",
    " for y in range(2004,2024)]"
   ]
  },
  {
   "cell_type": "code",
   "execution_count": 42,
   "metadata": {},
   "outputs": [
    {
     "data": {
      "image/png": "[encoded data removed]",
      "text/plain": [
       "<Figure size 504x360 with 1 Axes>"
      ]
     },
     "metadata": {
      "needs_background": "light"
     },
     "output_type": "display_data"
    }
   ],
   "source": [
    "nrow, ncol = 1,1\n",
    "fig, ax = plt.subplots(nrow, ncol, figsize=(7,5))\n",
    "fs, a = 14, 0.8\n",
    "ax.bar(years,\n",
    "       base_FCY,\n",
    "       color='black',\n",
    "       alpha=a,\n",
    "       label = 'base',\n",
    "      )\n",
    "ax.bar(years,\n",
    "       FX_FCY,\n",
    "       color='lightgray',\n",
    "       alpha=a,\n",
    "      label = 'FX_min')\n",
    "ax.bar(years,\n",
    "       VIX_FCY,\n",
    "       color='orange',\n",
    "       alpha=a,\n",
    "      label = 'VIX_min')\n",
    "ax.set_xticks(np.arange(2004,2028,4))\n",
    "ax.set_xticklabels(np.arange(2004,2028,4), fontsize=fs)\n",
    "ax.tick_params(axis='both', labelsize=fs)\n",
    "ax.set_ylabel('Foreign Debt (USD bn)',fontsize=fs)\n",
    "#ax.legend(fontsize=fs)\n",
    "plt.tight_layout()\n",
    "fig.savefig('./../figs/fig_4a.png',dpi=300)"
   ]
  },
  {
   "cell_type": "code",
   "execution_count": null,
   "metadata": {},
   "outputs": [],
   "source": []
  }
 ],
 "metadata": {
  "kernelspec": {
   "display_name": "Python 3",
   "language": "python",
   "name": "python3"
  },
  "language_info": {
   "codemirror_mode": {
    "name": "ipython",
    "version": 3
   },
   "file_extension": ".py",
   "mimetype": "text/x-python",
   "name": "python",
   "nbconvert_exporter": "python",
   "pygments_lexer": "ipython3",
   "version": "3.7.3"
  }
 },
 "nbformat": 4,
 "nbformat_minor": 4
}
